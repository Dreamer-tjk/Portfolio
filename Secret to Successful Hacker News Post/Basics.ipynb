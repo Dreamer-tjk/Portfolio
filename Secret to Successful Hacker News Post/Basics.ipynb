{
 "cells": [
  {
   "cell_type": "markdown",
   "metadata": {
    "collapsed": true
   },
   "source": [
    "# Secret of Best Hacker News Post"
   ]
  },
  {
   "cell_type": "markdown",
   "metadata": {},
   "source": [
    "- In this project the data provided by Hacker News will be analyzed. You can find the dataset [here](https://www.kaggle.com/datasets/hacker-news/hacker-news-posts).\n",
    "- More specifically two types of post will be compared to find which receives more comments on average. ``Ask HN`` or ``Show HN``\n",
    "- Lastly, how does time factor affects the number comments on average"
   ]
  },
  {
   "cell_type": "code",
   "execution_count": 2,
   "metadata": {},
   "outputs": [],
   "source": [
    "from csv import reader"
   ]
  },
  {
   "cell_type": "code",
   "execution_count": 3,
   "metadata": {},
   "outputs": [],
   "source": [
    "def extract_data(file):\n",
    "    \"\"\"locates file using filepath, reads it, then returns a list of lists\"\"\"\n",
    "    \n",
    "    opened_file = open(file)\n",
    "    read_file = reader(opened_file)\n",
    "    result = list(read_file)\n",
    "    \n",
    "    # return both the column headers and the actual data as seperate entities\n",
    "    return result[0], result[1:]"
   ]
  },
  {
   "cell_type": "code",
   "execution_count": 4,
   "metadata": {},
   "outputs": [],
   "source": [
    "header, hn = extract_data('hacker_news.csv')"
   ]
  },
  {
   "cell_type": "code",
   "execution_count": 6,
   "metadata": {},
   "outputs": [
    {
     "data": {
      "text/plain": [
       "['id', 'title', 'url', 'num_points', 'num_comments', 'author', 'created_at']"
      ]
     },
     "execution_count": 6,
     "metadata": {},
     "output_type": "execute_result"
    }
   ],
   "source": [
    "header"
   ]
  },
  {
   "cell_type": "code",
   "execution_count": 7,
   "metadata": {},
   "outputs": [],
   "source": [
    "def explore_data(dataset, start, end, n_rows_columns = False):\n",
    "    \n",
    "    dataset_slice = dataset[start:end]\n",
    "    \n",
    "    for row in dataset_slice:\n",
    "        print(row)\n",
    "        print('\\n')\n",
    "        \n",
    "    if n_rows_columns:\n",
    "        print('The number of rows: {:,}'.format(len(dataset)))\n",
    "        print('The number of columns: ', len(dataset[0]))\n",
    "              \n",
    "              \n",
    "#           if rows_and_columns:\n",
    "#         print('Number of rows: {:,}'.format(len(dataset)))\n",
    "#         print('Number of columns:', len(dataset[0]))"
   ]
  },
  {
   "cell_type": "code",
   "execution_count": 19,
   "metadata": {
    "scrolled": true
   },
   "outputs": [
    {
     "name": "stdout",
     "output_type": "stream",
     "text": [
      "['12224879', 'Interactive Dynamic Video', 'http://www.interactivedynamicvideo.com/', '386', '52', 'ne0phyte', '8/4/2016 11:52']\n",
      "\n",
      "\n",
      "['10975351', 'How to Use Open Source and Shut the Fuck Up at the Same Time', 'http://hueniverse.com/2016/01/26/how-to-use-open-source-and-shut-the-fuck-up-at-the-same-time/', '39', '10', 'josep2', '1/26/2016 19:30']\n",
      "\n",
      "\n",
      "['11964716', \"Florida DJs May Face Felony for April Fools' Water Joke\", 'http://www.thewire.com/entertainment/2013/04/florida-djs-april-fools-water-joke/63798/', '2', '1', 'vezycash', '6/23/2016 22:20']\n",
      "\n",
      "\n",
      "['11919867', 'Technology ventures: From Idea to Enterprise', 'https://www.amazon.com/Technology-Ventures-Enterprise-Thomas-Byers/dp/0073523429', '3', '1', 'hswarna', '6/17/2016 0:01']\n",
      "\n",
      "\n",
      "['10301696', 'Note by Note: The Making of Steinway L1037 (2007)', 'http://www.nytimes.com/2007/11/07/movies/07stein.html?_r=0', '8', '2', 'walterbell', '9/30/2015 4:12']\n",
      "\n",
      "\n",
      "The number of rows: 20,100\n",
      "The number of columns:  7\n"
     ]
    }
   ],
   "source": [
    "explore_data(hn, 0, 5, n_rows_columns = True)"
   ]
  },
  {
   "cell_type": "code",
   "execution_count": 8,
   "metadata": {},
   "outputs": [],
   "source": [
    "ask_posts = []\n",
    "show_posts = []\n",
    "other_posts = []\n",
    "\n",
    "for row in hn:\n",
    "    title = row[1]\n",
    "    if title.lower().startswith('ask hn'):\n",
    "        ask_posts.append(row)\n",
    "    elif title.lower().startswith('show hn'):\n",
    "        show_posts.append(row)\n",
    "    else:\n",
    "        other_posts.append(row)\n"
   ]
  },
  {
   "cell_type": "code",
   "execution_count": 9,
   "metadata": {},
   "outputs": [
    {
     "name": "stdout",
     "output_type": "stream",
     "text": [
      "The number of ask hn posts are: 1,744 (9%)\n",
      "The number of show hn posts are: 1,162 (6%)\n",
      "The number of other posts are: 17,194 (86%)\n"
     ]
    }
   ],
   "source": [
    "template = 'The number of {} posts are: {:,} ({:.0f}%)'\n",
    "    \n",
    "    \n",
    "print(template.format('ask hn', len(ask_posts), len(ask_posts)/len(hn)* 100))\n",
    "print(template.format('show hn', len(show_posts), len(show_posts)/len(hn)* 100))\n",
    "print(template.format('other', len(other_posts), len(other_posts)/len(hn)* 100))\n"
   ]
  },
  {
   "cell_type": "code",
   "execution_count": 10,
   "metadata": {},
   "outputs": [
    {
     "name": "stdout",
     "output_type": "stream",
     "text": [
      "The average num of comment in ask posts is: 14.04\n",
      "The average number of comments in show posts is: 10.32\n"
     ]
    }
   ],
   "source": [
    "total_ask_comments = 0\n",
    "for post in ask_posts:\n",
    "    n_comments = int(post[4])\n",
    "    total_ask_comments += n_comments\n",
    "avg_ask_comments = total_ask_comments / len(ask_posts)\n",
    "print(\"The average num of comment in ask posts is: {:.2f}\".format(avg_ask_comments))\n",
    "\n",
    "total_show_comments = 0\n",
    "for post in show_posts:\n",
    "    n_comments = int(post[4])\n",
    "    total_show_comments += n_comments\n",
    "avg_show_comments = total_show_comments / len(show_posts)\n",
    "print(\"The average number of comments in show posts is: {:.2f}\".format(avg_show_comments))\n"
   ]
  },
  {
   "cell_type": "markdown",
   "metadata": {},
   "source": [
    "- As we see. ``Ask posts`` receive on average more comments than their ``Show`` counterparts. **14.04** VS **10.32**"
   ]
  },
  {
   "cell_type": "code",
   "execution_count": 11,
   "metadata": {},
   "outputs": [],
   "source": [
    "import datetime as dt"
   ]
  },
  {
   "cell_type": "code",
   "execution_count": 37,
   "metadata": {
    "scrolled": true
   },
   "outputs": [
    {
     "name": "stdout",
     "output_type": "stream",
     "text": [
      "9 :  45\n",
      "13 :  85\n",
      "10 :  59\n",
      "14 :  107\n",
      "16 :  108\n",
      "23 :  68\n",
      "12 :  73\n",
      "17 :  100\n",
      "15 :  116\n",
      "21 :  109\n",
      "20 :  80\n",
      "2 :  58\n",
      "18 :  109\n",
      "3 :  54\n",
      "5 :  46\n",
      "19 :  110\n",
      "1 :  60\n",
      "22 :  71\n",
      "8 :  48\n",
      "4 :  47\n",
      "0 :  55\n",
      "6 :  44\n",
      "7 :  34\n",
      "11 :  58\n",
      "\n",
      "\n",
      "9 :  251\n",
      "13 :  1253\n",
      "10 :  793\n",
      "14 :  1416\n",
      "16 :  1814\n",
      "23 :  543\n",
      "12 :  687\n",
      "17 :  1146\n",
      "15 :  4477\n",
      "21 :  1745\n",
      "20 :  1722\n",
      "2 :  1381\n",
      "18 :  1439\n",
      "3 :  421\n",
      "5 :  464\n",
      "19 :  1188\n",
      "1 :  683\n",
      "22 :  479\n",
      "8 :  492\n",
      "4 :  337\n",
      "0 :  447\n",
      "6 :  397\n",
      "7 :  267\n",
      "11 :  641\n"
     ]
    }
   ],
   "source": [
    "result_list = []\n",
    "for post in ask_posts:\n",
    "    result_list_lite = []\n",
    "    create_at = post[6]\n",
    "    n_comments = int(post[4])\n",
    "\n",
    "    result_list.append([create_at, n_comments])\n",
    "    \n",
    "    \n",
    "counts_by_hour = {}\n",
    "comments_by_hour = {}\n",
    "    \n",
    "for row in result_list:\n",
    "    comments = int(row[1])\n",
    "    date = row[0]\n",
    "    date = dt.datetime.strptime(date, '%m/%d/%Y %H:%M')\n",
    "    hour = date.hour\n",
    "    if hour not in counts_by_hour:\n",
    "        counts_by_hour[hour] = 1\n",
    "        comments_by_hour[hour] = comments\n",
    "    else:\n",
    "        counts_by_hour[hour] += 1\n",
    "        comments_by_hour[hour] += comments\n",
    "\n",
    "for key in counts_by_hour:\n",
    "    print(key, \": \", counts_by_hour[key])\n",
    "    \n",
    "print(\"\\n\")\n",
    "for key in comments_by_hour:\n",
    "    print(key, \": \", comments_by_hour[key])\n",
    "    \n",
    "    \n",
    "    import datetime as dt\n",
    "\n",
    "result_list = []\n",
    "\n",
    "for post in ask_posts:\n",
    "    comments = int(post[4])\n",
    "    created = post[6]\n",
    "    result_list.append([created, comments])\n",
    "\n",
    "#########################################################################    \n",
    "    \n",
    "# counts_by_hour = {}\n",
    "# comments_by_hour = {}\n",
    "\n",
    "# for item in result_list:\n",
    "#     created = dt.datetime.strptime(item[0], '%m/%d/%Y %H:%M')\n",
    "#     hour_created = created.hour\n",
    "#     comments = int(item[1])\n",
    "#     if hour_created in counts_by_hour:\n",
    "#         counts_by_hour[hour_created] += 1\n",
    "#         comments_by_hour[hour_created] += comments\n",
    "#     else:\n",
    "#         counts_by_hour[hour_created] = 1\n",
    "#         comments_by_hour[hour_created] = comments\n",
    "\n",
    "# print('Posts count per hour:', counts_by_hour)\n",
    "# print('Comments count per hour:', comments_by_hour)\n",
    "\n",
    "\n",
    "# avg_by_hour = []\n",
    "\n",
    "# for hour in comments_by_hour:\n",
    "#     avg_by_hour.append([hour, round(comments_by_hour[hour] / counts_by_hour[hour], 1)])\n",
    "    \n",
    "# print('Average number of comments by hour:', avg_by_hour)\n",
    "\n"
   ]
  },
  {
   "cell_type": "code",
   "execution_count": 38,
   "metadata": {},
   "outputs": [
    {
     "name": "stdout",
     "output_type": "stream",
     "text": [
      "[[9, 5.5777777777777775], [13, 14.741176470588234], [10, 13.440677966101696], [14, 13.233644859813085], [16, 16.796296296296298], [23, 7.985294117647059], [12, 9.41095890410959], [17, 11.46], [15, 38.5948275862069], [21, 16.009174311926607], [20, 21.525], [2, 23.810344827586206], [18, 13.20183486238532], [3, 7.796296296296297], [5, 10.08695652173913], [19, 10.8], [1, 11.383333333333333], [22, 6.746478873239437], [8, 10.25], [4, 7.170212765957447], [0, 8.127272727272727], [6, 9.022727272727273], [7, 7.852941176470588], [11, 11.051724137931034]]\n"
     ]
    }
   ],
   "source": [
    "\n",
    "avg_by_hour = []\n",
    "for key in counts_by_hour:\n",
    "    avg_count = int(comments_by_hour[key]) / int(counts_by_hour[key]) \n",
    "    avg_by_hour.append([key, avg_count])\n",
    "\n",
    "print(avg_by_hour)"
   ]
  },
  {
   "cell_type": "code",
   "execution_count": 39,
   "metadata": {},
   "outputs": [
    {
     "name": "stdout",
     "output_type": "stream",
     "text": [
      "[[5.5777777777777775, 9], [14.741176470588234, 13], [13.440677966101696, 10], [13.233644859813085, 14], [16.796296296296298, 16], [7.985294117647059, 23], [9.41095890410959, 12], [11.46, 17], [38.5948275862069, 15], [16.009174311926607, 21], [21.525, 20], [23.810344827586206, 2], [13.20183486238532, 18], [7.796296296296297, 3], [10.08695652173913, 5], [10.8, 19], [11.383333333333333, 1], [6.746478873239437, 22], [10.25, 8], [7.170212765957447, 4], [8.127272727272727, 0], [9.022727272727273, 6], [7.852941176470588, 7], [11.051724137931034, 11]]\n"
     ]
    }
   ],
   "source": [
    "swap_avg_by_hour = []\n",
    "for row in avg_by_hour:\n",
    "    hour, count = row[0], row[1]\n",
    "    swap_avg_by_hour.append([count, hour])\n",
    "print(swap_avg_by_hour)"
   ]
  },
  {
   "cell_type": "code",
   "execution_count": 41,
   "metadata": {},
   "outputs": [
    {
     "name": "stdout",
     "output_type": "stream",
     "text": [
      "[[38.5948275862069, 15], [23.810344827586206, 2], [21.525, 20], [16.796296296296298, 16], [16.009174311926607, 21], [14.741176470588234, 13], [13.440677966101696, 10], [13.233644859813085, 14], [13.20183486238532, 18], [11.46, 17], [11.383333333333333, 1], [11.051724137931034, 11], [10.8, 19], [10.25, 8], [10.08695652173913, 5], [9.41095890410959, 12], [9.022727272727273, 6], [8.127272727272727, 0], [7.985294117647059, 23], [7.852941176470588, 7], [7.796296296296297, 3], [7.170212765957447, 4], [6.746478873239437, 22], [5.5777777777777775, 9]]\n"
     ]
    }
   ],
   "source": [
    "sorted_swap = sorted(swap_avg_by_hour, reverse = True)\n",
    "print(sorted_swap)"
   ]
  },
  {
   "cell_type": "code",
   "execution_count": 49,
   "metadata": {},
   "outputs": [
    {
     "name": "stdout",
     "output_type": "stream",
     "text": [
      "15:00: 38.59 average comments per post\n",
      "02:00: 23.81 average comments per post\n",
      "20:00: 21.52 average comments per post\n",
      "16:00: 16.80 average comments per post\n",
      "21:00: 16.01 average comments per post\n"
     ]
    }
   ],
   "source": [
    "for row in sorted_swap[:5]:\n",
    "    hour = dt.datetime.strptime(str(row[1]), '%H')\n",
    "    hour = hour.strftime('%H:%M')\n",
    "    print(\"{}: {:.2f} average comments per post\".format(hour, row[0]))"
   ]
  },
  {
   "cell_type": "code",
   "execution_count": null,
   "metadata": {},
   "outputs": [],
   "source": []
  }
 ],
 "metadata": {
  "kernelspec": {
   "display_name": "Python 3",
   "language": "python",
   "name": "python3"
  },
  "language_info": {
   "codemirror_mode": {
    "name": "ipython",
    "version": 3
   },
   "file_extension": ".py",
   "mimetype": "text/x-python",
   "name": "python",
   "nbconvert_exporter": "python",
   "pygments_lexer": "ipython3",
   "version": "3.8.2"
  }
 },
 "nbformat": 4,
 "nbformat_minor": 2
}
