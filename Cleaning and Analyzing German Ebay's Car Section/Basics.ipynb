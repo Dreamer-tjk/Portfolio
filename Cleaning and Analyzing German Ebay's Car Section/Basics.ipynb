{
 "cells": [
  {
   "cell_type": "markdown",
   "metadata": {
    "collapsed": true
   },
   "source": [
    "# Cleaning and Analysing German Ebay cars section\n"
   ]
  },
  {
   "cell_type": "markdown",
   "metadata": {},
   "source": [
    "- The aim of this project is to clean and make general analysis of the dataset.\n",
    "\n",
    "The columns in the data set are:\n",
    "- `dateCrawled` - When this ad was first crawled. All field-values are taken from this date.\n",
    "- `name` - Name of the car.\n",
    "- `seller` - Whether the seller is private or a dealer.\n",
    "- `offerType` - The type of listing\n",
    "- `price` - The price on the ad to sell the car.\n",
    "- `abtest` - Whether the listing is included in an A/B test.\n",
    "- `vehicleType` - The vehicle Type.\n",
    "- `yearOfRegistration` - The year in which the car was first registered.\n",
    "- `gearbox` - The transmission type.\n",
    "- `powerPS` - The power of the car in PS.\n",
    "- `model` - The car model name.\n",
    "- `kilometer` - How many kilometers the car has driven.\n",
    "- `monthOfRegistration` - The month in which the car was first registered.\n",
    "- `fuelType` - What type of fuel the car uses.\n",
    "- `brand` - The brand of the car.\n",
    "- `notRepairedDamage` - If the car has a damage which is not yet repaired.\n",
    "- `dateCreated` - The date on which the eBay listing was created.\n",
    "- `nrOfPictures` - The number of pictures in the ad.\n",
    "- `postalCode` - The postal code for the location of the vehicle.\n",
    "- `lastSeenOnline` - When the crawler saw this ad last online."
   ]
  },
  {
   "cell_type": "code",
   "execution_count": 69,
   "metadata": {},
   "outputs": [],
   "source": [
    "import pandas as pd\n",
    "import seaborn as sns\n",
    "import matplotlib as plt"
   ]
  },
  {
   "cell_type": "code",
   "execution_count": 70,
   "metadata": {},
   "outputs": [],
   "source": [
    "%matplotlib inline"
   ]
  },
  {
   "cell_type": "code",
   "execution_count": 37,
   "metadata": {},
   "outputs": [],
   "source": [
    "autos = pd.read_csv('autos.csv', encoding = 'Latin-1')\n",
    "\n"
   ]
  },
  {
   "cell_type": "code",
   "execution_count": 38,
   "metadata": {},
   "outputs": [
    {
     "data": {
      "text/html": [
       "<div>\n",
       "<style scoped>\n",
       "    .dataframe tbody tr th:only-of-type {\n",
       "        vertical-align: middle;\n",
       "    }\n",
       "\n",
       "    .dataframe tbody tr th {\n",
       "        vertical-align: top;\n",
       "    }\n",
       "\n",
       "    .dataframe thead th {\n",
       "        text-align: right;\n",
       "    }\n",
       "</style>\n",
       "<table border=\"1\" class=\"dataframe\">\n",
       "  <thead>\n",
       "    <tr style=\"text-align: right;\">\n",
       "      <th></th>\n",
       "      <th>dateCrawled</th>\n",
       "      <th>name</th>\n",
       "      <th>seller</th>\n",
       "      <th>offerType</th>\n",
       "      <th>price</th>\n",
       "      <th>abtest</th>\n",
       "      <th>vehicleType</th>\n",
       "      <th>yearOfRegistration</th>\n",
       "      <th>gearbox</th>\n",
       "      <th>powerPS</th>\n",
       "      <th>model</th>\n",
       "      <th>odometer</th>\n",
       "      <th>monthOfRegistration</th>\n",
       "      <th>fuelType</th>\n",
       "      <th>brand</th>\n",
       "      <th>notRepairedDamage</th>\n",
       "      <th>dateCreated</th>\n",
       "      <th>nrOfPictures</th>\n",
       "      <th>postalCode</th>\n",
       "      <th>lastSeen</th>\n",
       "    </tr>\n",
       "  </thead>\n",
       "  <tbody>\n",
       "    <tr>\n",
       "      <th>0</th>\n",
       "      <td>2016-03-26 17:47:46</td>\n",
       "      <td>Peugeot_807_160_NAVTECH_ON_BOARD</td>\n",
       "      <td>privat</td>\n",
       "      <td>Angebot</td>\n",
       "      <td>$5,000</td>\n",
       "      <td>control</td>\n",
       "      <td>bus</td>\n",
       "      <td>2004</td>\n",
       "      <td>manuell</td>\n",
       "      <td>158</td>\n",
       "      <td>andere</td>\n",
       "      <td>150,000km</td>\n",
       "      <td>3</td>\n",
       "      <td>lpg</td>\n",
       "      <td>peugeot</td>\n",
       "      <td>nein</td>\n",
       "      <td>2016-03-26 00:00:00</td>\n",
       "      <td>0</td>\n",
       "      <td>79588</td>\n",
       "      <td>2016-04-06 06:45:54</td>\n",
       "    </tr>\n",
       "    <tr>\n",
       "      <th>1</th>\n",
       "      <td>2016-04-04 13:38:56</td>\n",
       "      <td>BMW_740i_4_4_Liter_HAMANN_UMBAU_Mega_Optik</td>\n",
       "      <td>privat</td>\n",
       "      <td>Angebot</td>\n",
       "      <td>$8,500</td>\n",
       "      <td>control</td>\n",
       "      <td>limousine</td>\n",
       "      <td>1997</td>\n",
       "      <td>automatik</td>\n",
       "      <td>286</td>\n",
       "      <td>7er</td>\n",
       "      <td>150,000km</td>\n",
       "      <td>6</td>\n",
       "      <td>benzin</td>\n",
       "      <td>bmw</td>\n",
       "      <td>nein</td>\n",
       "      <td>2016-04-04 00:00:00</td>\n",
       "      <td>0</td>\n",
       "      <td>71034</td>\n",
       "      <td>2016-04-06 14:45:08</td>\n",
       "    </tr>\n",
       "    <tr>\n",
       "      <th>2</th>\n",
       "      <td>2016-03-26 18:57:24</td>\n",
       "      <td>Volkswagen_Golf_1.6_United</td>\n",
       "      <td>privat</td>\n",
       "      <td>Angebot</td>\n",
       "      <td>$8,990</td>\n",
       "      <td>test</td>\n",
       "      <td>limousine</td>\n",
       "      <td>2009</td>\n",
       "      <td>manuell</td>\n",
       "      <td>102</td>\n",
       "      <td>golf</td>\n",
       "      <td>70,000km</td>\n",
       "      <td>7</td>\n",
       "      <td>benzin</td>\n",
       "      <td>volkswagen</td>\n",
       "      <td>nein</td>\n",
       "      <td>2016-03-26 00:00:00</td>\n",
       "      <td>0</td>\n",
       "      <td>35394</td>\n",
       "      <td>2016-04-06 20:15:37</td>\n",
       "    </tr>\n",
       "    <tr>\n",
       "      <th>3</th>\n",
       "      <td>2016-03-12 16:58:10</td>\n",
       "      <td>Smart_smart_fortwo_coupe_softouch/F1/Klima/Pan...</td>\n",
       "      <td>privat</td>\n",
       "      <td>Angebot</td>\n",
       "      <td>$4,350</td>\n",
       "      <td>control</td>\n",
       "      <td>kleinwagen</td>\n",
       "      <td>2007</td>\n",
       "      <td>automatik</td>\n",
       "      <td>71</td>\n",
       "      <td>fortwo</td>\n",
       "      <td>70,000km</td>\n",
       "      <td>6</td>\n",
       "      <td>benzin</td>\n",
       "      <td>smart</td>\n",
       "      <td>nein</td>\n",
       "      <td>2016-03-12 00:00:00</td>\n",
       "      <td>0</td>\n",
       "      <td>33729</td>\n",
       "      <td>2016-03-15 03:16:28</td>\n",
       "    </tr>\n",
       "    <tr>\n",
       "      <th>4</th>\n",
       "      <td>2016-04-01 14:38:50</td>\n",
       "      <td>Ford_Focus_1_6_Benzin_TÜV_neu_ist_sehr_gepfleg...</td>\n",
       "      <td>privat</td>\n",
       "      <td>Angebot</td>\n",
       "      <td>$1,350</td>\n",
       "      <td>test</td>\n",
       "      <td>kombi</td>\n",
       "      <td>2003</td>\n",
       "      <td>manuell</td>\n",
       "      <td>0</td>\n",
       "      <td>focus</td>\n",
       "      <td>150,000km</td>\n",
       "      <td>7</td>\n",
       "      <td>benzin</td>\n",
       "      <td>ford</td>\n",
       "      <td>nein</td>\n",
       "      <td>2016-04-01 00:00:00</td>\n",
       "      <td>0</td>\n",
       "      <td>39218</td>\n",
       "      <td>2016-04-01 14:38:50</td>\n",
       "    </tr>\n",
       "    <tr>\n",
       "      <th>...</th>\n",
       "      <td>...</td>\n",
       "      <td>...</td>\n",
       "      <td>...</td>\n",
       "      <td>...</td>\n",
       "      <td>...</td>\n",
       "      <td>...</td>\n",
       "      <td>...</td>\n",
       "      <td>...</td>\n",
       "      <td>...</td>\n",
       "      <td>...</td>\n",
       "      <td>...</td>\n",
       "      <td>...</td>\n",
       "      <td>...</td>\n",
       "      <td>...</td>\n",
       "      <td>...</td>\n",
       "      <td>...</td>\n",
       "      <td>...</td>\n",
       "      <td>...</td>\n",
       "      <td>...</td>\n",
       "      <td>...</td>\n",
       "    </tr>\n",
       "    <tr>\n",
       "      <th>49995</th>\n",
       "      <td>2016-03-27 14:38:19</td>\n",
       "      <td>Audi_Q5_3.0_TDI_qu._S_tr.__Navi__Panorama__Xenon</td>\n",
       "      <td>privat</td>\n",
       "      <td>Angebot</td>\n",
       "      <td>$24,900</td>\n",
       "      <td>control</td>\n",
       "      <td>limousine</td>\n",
       "      <td>2011</td>\n",
       "      <td>automatik</td>\n",
       "      <td>239</td>\n",
       "      <td>q5</td>\n",
       "      <td>100,000km</td>\n",
       "      <td>1</td>\n",
       "      <td>diesel</td>\n",
       "      <td>audi</td>\n",
       "      <td>nein</td>\n",
       "      <td>2016-03-27 00:00:00</td>\n",
       "      <td>0</td>\n",
       "      <td>82131</td>\n",
       "      <td>2016-04-01 13:47:40</td>\n",
       "    </tr>\n",
       "    <tr>\n",
       "      <th>49996</th>\n",
       "      <td>2016-03-28 10:50:25</td>\n",
       "      <td>Opel_Astra_F_Cabrio_Bertone_Edition___TÜV_neu+...</td>\n",
       "      <td>privat</td>\n",
       "      <td>Angebot</td>\n",
       "      <td>$1,980</td>\n",
       "      <td>control</td>\n",
       "      <td>cabrio</td>\n",
       "      <td>1996</td>\n",
       "      <td>manuell</td>\n",
       "      <td>75</td>\n",
       "      <td>astra</td>\n",
       "      <td>150,000km</td>\n",
       "      <td>5</td>\n",
       "      <td>benzin</td>\n",
       "      <td>opel</td>\n",
       "      <td>nein</td>\n",
       "      <td>2016-03-28 00:00:00</td>\n",
       "      <td>0</td>\n",
       "      <td>44807</td>\n",
       "      <td>2016-04-02 14:18:02</td>\n",
       "    </tr>\n",
       "    <tr>\n",
       "      <th>49997</th>\n",
       "      <td>2016-04-02 14:44:48</td>\n",
       "      <td>Fiat_500_C_1.2_Dualogic_Lounge</td>\n",
       "      <td>privat</td>\n",
       "      <td>Angebot</td>\n",
       "      <td>$13,200</td>\n",
       "      <td>test</td>\n",
       "      <td>cabrio</td>\n",
       "      <td>2014</td>\n",
       "      <td>automatik</td>\n",
       "      <td>69</td>\n",
       "      <td>500</td>\n",
       "      <td>5,000km</td>\n",
       "      <td>11</td>\n",
       "      <td>benzin</td>\n",
       "      <td>fiat</td>\n",
       "      <td>nein</td>\n",
       "      <td>2016-04-02 00:00:00</td>\n",
       "      <td>0</td>\n",
       "      <td>73430</td>\n",
       "      <td>2016-04-04 11:47:27</td>\n",
       "    </tr>\n",
       "    <tr>\n",
       "      <th>49998</th>\n",
       "      <td>2016-03-08 19:25:42</td>\n",
       "      <td>Audi_A3_2.0_TDI_Sportback_Ambition</td>\n",
       "      <td>privat</td>\n",
       "      <td>Angebot</td>\n",
       "      <td>$22,900</td>\n",
       "      <td>control</td>\n",
       "      <td>kombi</td>\n",
       "      <td>2013</td>\n",
       "      <td>manuell</td>\n",
       "      <td>150</td>\n",
       "      <td>a3</td>\n",
       "      <td>40,000km</td>\n",
       "      <td>11</td>\n",
       "      <td>diesel</td>\n",
       "      <td>audi</td>\n",
       "      <td>nein</td>\n",
       "      <td>2016-03-08 00:00:00</td>\n",
       "      <td>0</td>\n",
       "      <td>35683</td>\n",
       "      <td>2016-04-05 16:45:07</td>\n",
       "    </tr>\n",
       "    <tr>\n",
       "      <th>49999</th>\n",
       "      <td>2016-03-14 00:42:12</td>\n",
       "      <td>Opel_Vectra_1.6_16V</td>\n",
       "      <td>privat</td>\n",
       "      <td>Angebot</td>\n",
       "      <td>$1,250</td>\n",
       "      <td>control</td>\n",
       "      <td>limousine</td>\n",
       "      <td>1996</td>\n",
       "      <td>manuell</td>\n",
       "      <td>101</td>\n",
       "      <td>vectra</td>\n",
       "      <td>150,000km</td>\n",
       "      <td>1</td>\n",
       "      <td>benzin</td>\n",
       "      <td>opel</td>\n",
       "      <td>nein</td>\n",
       "      <td>2016-03-13 00:00:00</td>\n",
       "      <td>0</td>\n",
       "      <td>45897</td>\n",
       "      <td>2016-04-06 21:18:48</td>\n",
       "    </tr>\n",
       "  </tbody>\n",
       "</table>\n",
       "<p>50000 rows × 20 columns</p>\n",
       "</div>"
      ],
      "text/plain": [
       "               dateCrawled                                               name  \\\n",
       "0      2016-03-26 17:47:46                   Peugeot_807_160_NAVTECH_ON_BOARD   \n",
       "1      2016-04-04 13:38:56         BMW_740i_4_4_Liter_HAMANN_UMBAU_Mega_Optik   \n",
       "2      2016-03-26 18:57:24                         Volkswagen_Golf_1.6_United   \n",
       "3      2016-03-12 16:58:10  Smart_smart_fortwo_coupe_softouch/F1/Klima/Pan...   \n",
       "4      2016-04-01 14:38:50  Ford_Focus_1_6_Benzin_TÜV_neu_ist_sehr_gepfleg...   \n",
       "...                    ...                                                ...   \n",
       "49995  2016-03-27 14:38:19   Audi_Q5_3.0_TDI_qu._S_tr.__Navi__Panorama__Xenon   \n",
       "49996  2016-03-28 10:50:25  Opel_Astra_F_Cabrio_Bertone_Edition___TÜV_neu+...   \n",
       "49997  2016-04-02 14:44:48                     Fiat_500_C_1.2_Dualogic_Lounge   \n",
       "49998  2016-03-08 19:25:42                 Audi_A3_2.0_TDI_Sportback_Ambition   \n",
       "49999  2016-03-14 00:42:12                                Opel_Vectra_1.6_16V   \n",
       "\n",
       "       seller offerType    price   abtest vehicleType  yearOfRegistration  \\\n",
       "0      privat   Angebot   $5,000  control         bus                2004   \n",
       "1      privat   Angebot   $8,500  control   limousine                1997   \n",
       "2      privat   Angebot   $8,990     test   limousine                2009   \n",
       "3      privat   Angebot   $4,350  control  kleinwagen                2007   \n",
       "4      privat   Angebot   $1,350     test       kombi                2003   \n",
       "...       ...       ...      ...      ...         ...                 ...   \n",
       "49995  privat   Angebot  $24,900  control   limousine                2011   \n",
       "49996  privat   Angebot   $1,980  control      cabrio                1996   \n",
       "49997  privat   Angebot  $13,200     test      cabrio                2014   \n",
       "49998  privat   Angebot  $22,900  control       kombi                2013   \n",
       "49999  privat   Angebot   $1,250  control   limousine                1996   \n",
       "\n",
       "         gearbox  powerPS   model   odometer  monthOfRegistration fuelType  \\\n",
       "0        manuell      158  andere  150,000km                    3      lpg   \n",
       "1      automatik      286     7er  150,000km                    6   benzin   \n",
       "2        manuell      102    golf   70,000km                    7   benzin   \n",
       "3      automatik       71  fortwo   70,000km                    6   benzin   \n",
       "4        manuell        0   focus  150,000km                    7   benzin   \n",
       "...          ...      ...     ...        ...                  ...      ...   \n",
       "49995  automatik      239      q5  100,000km                    1   diesel   \n",
       "49996    manuell       75   astra  150,000km                    5   benzin   \n",
       "49997  automatik       69     500    5,000km                   11   benzin   \n",
       "49998    manuell      150      a3   40,000km                   11   diesel   \n",
       "49999    manuell      101  vectra  150,000km                    1   benzin   \n",
       "\n",
       "            brand notRepairedDamage          dateCreated  nrOfPictures  \\\n",
       "0         peugeot              nein  2016-03-26 00:00:00             0   \n",
       "1             bmw              nein  2016-04-04 00:00:00             0   \n",
       "2      volkswagen              nein  2016-03-26 00:00:00             0   \n",
       "3           smart              nein  2016-03-12 00:00:00             0   \n",
       "4            ford              nein  2016-04-01 00:00:00             0   \n",
       "...           ...               ...                  ...           ...   \n",
       "49995        audi              nein  2016-03-27 00:00:00             0   \n",
       "49996        opel              nein  2016-03-28 00:00:00             0   \n",
       "49997        fiat              nein  2016-04-02 00:00:00             0   \n",
       "49998        audi              nein  2016-03-08 00:00:00             0   \n",
       "49999        opel              nein  2016-03-13 00:00:00             0   \n",
       "\n",
       "       postalCode             lastSeen  \n",
       "0           79588  2016-04-06 06:45:54  \n",
       "1           71034  2016-04-06 14:45:08  \n",
       "2           35394  2016-04-06 20:15:37  \n",
       "3           33729  2016-03-15 03:16:28  \n",
       "4           39218  2016-04-01 14:38:50  \n",
       "...           ...                  ...  \n",
       "49995       82131  2016-04-01 13:47:40  \n",
       "49996       44807  2016-04-02 14:18:02  \n",
       "49997       73430  2016-04-04 11:47:27  \n",
       "49998       35683  2016-04-05 16:45:07  \n",
       "49999       45897  2016-04-06 21:18:48  \n",
       "\n",
       "[50000 rows x 20 columns]"
      ]
     },
     "execution_count": 38,
     "metadata": {},
     "output_type": "execute_result"
    }
   ],
   "source": [
    "autos"
   ]
  },
  {
   "cell_type": "code",
   "execution_count": 39,
   "metadata": {},
   "outputs": [
    {
     "name": "stdout",
     "output_type": "stream",
     "text": [
      "<class 'pandas.core.frame.DataFrame'>\n",
      "RangeIndex: 50000 entries, 0 to 49999\n",
      "Data columns (total 20 columns):\n",
      " #   Column               Non-Null Count  Dtype \n",
      "---  ------               --------------  ----- \n",
      " 0   dateCrawled          50000 non-null  object\n",
      " 1   name                 50000 non-null  object\n",
      " 2   seller               50000 non-null  object\n",
      " 3   offerType            50000 non-null  object\n",
      " 4   price                50000 non-null  object\n",
      " 5   abtest               50000 non-null  object\n",
      " 6   vehicleType          44905 non-null  object\n",
      " 7   yearOfRegistration   50000 non-null  int64 \n",
      " 8   gearbox              47320 non-null  object\n",
      " 9   powerPS              50000 non-null  int64 \n",
      " 10  model                47242 non-null  object\n",
      " 11  odometer             50000 non-null  object\n",
      " 12  monthOfRegistration  50000 non-null  int64 \n",
      " 13  fuelType             45518 non-null  object\n",
      " 14  brand                50000 non-null  object\n",
      " 15  notRepairedDamage    40171 non-null  object\n",
      " 16  dateCreated          50000 non-null  object\n",
      " 17  nrOfPictures         50000 non-null  int64 \n",
      " 18  postalCode           50000 non-null  int64 \n",
      " 19  lastSeen             50000 non-null  object\n",
      "dtypes: int64(5), object(15)\n",
      "memory usage: 7.6+ MB\n"
     ]
    }
   ],
   "source": [
    "autos.info()"
   ]
  },
  {
   "cell_type": "code",
   "execution_count": 40,
   "metadata": {},
   "outputs": [
    {
     "data": {
      "text/html": [
       "<div>\n",
       "<style scoped>\n",
       "    .dataframe tbody tr th:only-of-type {\n",
       "        vertical-align: middle;\n",
       "    }\n",
       "\n",
       "    .dataframe tbody tr th {\n",
       "        vertical-align: top;\n",
       "    }\n",
       "\n",
       "    .dataframe thead th {\n",
       "        text-align: right;\n",
       "    }\n",
       "</style>\n",
       "<table border=\"1\" class=\"dataframe\">\n",
       "  <thead>\n",
       "    <tr style=\"text-align: right;\">\n",
       "      <th></th>\n",
       "      <th>dateCrawled</th>\n",
       "      <th>name</th>\n",
       "      <th>seller</th>\n",
       "      <th>offerType</th>\n",
       "      <th>price</th>\n",
       "      <th>abtest</th>\n",
       "      <th>vehicleType</th>\n",
       "      <th>yearOfRegistration</th>\n",
       "      <th>gearbox</th>\n",
       "      <th>powerPS</th>\n",
       "      <th>model</th>\n",
       "      <th>odometer</th>\n",
       "      <th>monthOfRegistration</th>\n",
       "      <th>fuelType</th>\n",
       "      <th>brand</th>\n",
       "      <th>notRepairedDamage</th>\n",
       "      <th>dateCreated</th>\n",
       "      <th>nrOfPictures</th>\n",
       "      <th>postalCode</th>\n",
       "      <th>lastSeen</th>\n",
       "    </tr>\n",
       "  </thead>\n",
       "  <tbody>\n",
       "    <tr>\n",
       "      <th>0</th>\n",
       "      <td>2016-03-26 17:47:46</td>\n",
       "      <td>Peugeot_807_160_NAVTECH_ON_BOARD</td>\n",
       "      <td>privat</td>\n",
       "      <td>Angebot</td>\n",
       "      <td>$5,000</td>\n",
       "      <td>control</td>\n",
       "      <td>bus</td>\n",
       "      <td>2004</td>\n",
       "      <td>manuell</td>\n",
       "      <td>158</td>\n",
       "      <td>andere</td>\n",
       "      <td>150,000km</td>\n",
       "      <td>3</td>\n",
       "      <td>lpg</td>\n",
       "      <td>peugeot</td>\n",
       "      <td>nein</td>\n",
       "      <td>2016-03-26 00:00:00</td>\n",
       "      <td>0</td>\n",
       "      <td>79588</td>\n",
       "      <td>2016-04-06 06:45:54</td>\n",
       "    </tr>\n",
       "    <tr>\n",
       "      <th>1</th>\n",
       "      <td>2016-04-04 13:38:56</td>\n",
       "      <td>BMW_740i_4_4_Liter_HAMANN_UMBAU_Mega_Optik</td>\n",
       "      <td>privat</td>\n",
       "      <td>Angebot</td>\n",
       "      <td>$8,500</td>\n",
       "      <td>control</td>\n",
       "      <td>limousine</td>\n",
       "      <td>1997</td>\n",
       "      <td>automatik</td>\n",
       "      <td>286</td>\n",
       "      <td>7er</td>\n",
       "      <td>150,000km</td>\n",
       "      <td>6</td>\n",
       "      <td>benzin</td>\n",
       "      <td>bmw</td>\n",
       "      <td>nein</td>\n",
       "      <td>2016-04-04 00:00:00</td>\n",
       "      <td>0</td>\n",
       "      <td>71034</td>\n",
       "      <td>2016-04-06 14:45:08</td>\n",
       "    </tr>\n",
       "    <tr>\n",
       "      <th>2</th>\n",
       "      <td>2016-03-26 18:57:24</td>\n",
       "      <td>Volkswagen_Golf_1.6_United</td>\n",
       "      <td>privat</td>\n",
       "      <td>Angebot</td>\n",
       "      <td>$8,990</td>\n",
       "      <td>test</td>\n",
       "      <td>limousine</td>\n",
       "      <td>2009</td>\n",
       "      <td>manuell</td>\n",
       "      <td>102</td>\n",
       "      <td>golf</td>\n",
       "      <td>70,000km</td>\n",
       "      <td>7</td>\n",
       "      <td>benzin</td>\n",
       "      <td>volkswagen</td>\n",
       "      <td>nein</td>\n",
       "      <td>2016-03-26 00:00:00</td>\n",
       "      <td>0</td>\n",
       "      <td>35394</td>\n",
       "      <td>2016-04-06 20:15:37</td>\n",
       "    </tr>\n",
       "    <tr>\n",
       "      <th>3</th>\n",
       "      <td>2016-03-12 16:58:10</td>\n",
       "      <td>Smart_smart_fortwo_coupe_softouch/F1/Klima/Pan...</td>\n",
       "      <td>privat</td>\n",
       "      <td>Angebot</td>\n",
       "      <td>$4,350</td>\n",
       "      <td>control</td>\n",
       "      <td>kleinwagen</td>\n",
       "      <td>2007</td>\n",
       "      <td>automatik</td>\n",
       "      <td>71</td>\n",
       "      <td>fortwo</td>\n",
       "      <td>70,000km</td>\n",
       "      <td>6</td>\n",
       "      <td>benzin</td>\n",
       "      <td>smart</td>\n",
       "      <td>nein</td>\n",
       "      <td>2016-03-12 00:00:00</td>\n",
       "      <td>0</td>\n",
       "      <td>33729</td>\n",
       "      <td>2016-03-15 03:16:28</td>\n",
       "    </tr>\n",
       "    <tr>\n",
       "      <th>4</th>\n",
       "      <td>2016-04-01 14:38:50</td>\n",
       "      <td>Ford_Focus_1_6_Benzin_TÜV_neu_ist_sehr_gepfleg...</td>\n",
       "      <td>privat</td>\n",
       "      <td>Angebot</td>\n",
       "      <td>$1,350</td>\n",
       "      <td>test</td>\n",
       "      <td>kombi</td>\n",
       "      <td>2003</td>\n",
       "      <td>manuell</td>\n",
       "      <td>0</td>\n",
       "      <td>focus</td>\n",
       "      <td>150,000km</td>\n",
       "      <td>7</td>\n",
       "      <td>benzin</td>\n",
       "      <td>ford</td>\n",
       "      <td>nein</td>\n",
       "      <td>2016-04-01 00:00:00</td>\n",
       "      <td>0</td>\n",
       "      <td>39218</td>\n",
       "      <td>2016-04-01 14:38:50</td>\n",
       "    </tr>\n",
       "  </tbody>\n",
       "</table>\n",
       "</div>"
      ],
      "text/plain": [
       "           dateCrawled                                               name  \\\n",
       "0  2016-03-26 17:47:46                   Peugeot_807_160_NAVTECH_ON_BOARD   \n",
       "1  2016-04-04 13:38:56         BMW_740i_4_4_Liter_HAMANN_UMBAU_Mega_Optik   \n",
       "2  2016-03-26 18:57:24                         Volkswagen_Golf_1.6_United   \n",
       "3  2016-03-12 16:58:10  Smart_smart_fortwo_coupe_softouch/F1/Klima/Pan...   \n",
       "4  2016-04-01 14:38:50  Ford_Focus_1_6_Benzin_TÜV_neu_ist_sehr_gepfleg...   \n",
       "\n",
       "   seller offerType   price   abtest vehicleType  yearOfRegistration  \\\n",
       "0  privat   Angebot  $5,000  control         bus                2004   \n",
       "1  privat   Angebot  $8,500  control   limousine                1997   \n",
       "2  privat   Angebot  $8,990     test   limousine                2009   \n",
       "3  privat   Angebot  $4,350  control  kleinwagen                2007   \n",
       "4  privat   Angebot  $1,350     test       kombi                2003   \n",
       "\n",
       "     gearbox  powerPS   model   odometer  monthOfRegistration fuelType  \\\n",
       "0    manuell      158  andere  150,000km                    3      lpg   \n",
       "1  automatik      286     7er  150,000km                    6   benzin   \n",
       "2    manuell      102    golf   70,000km                    7   benzin   \n",
       "3  automatik       71  fortwo   70,000km                    6   benzin   \n",
       "4    manuell        0   focus  150,000km                    7   benzin   \n",
       "\n",
       "        brand notRepairedDamage          dateCreated  nrOfPictures  \\\n",
       "0     peugeot              nein  2016-03-26 00:00:00             0   \n",
       "1         bmw              nein  2016-04-04 00:00:00             0   \n",
       "2  volkswagen              nein  2016-03-26 00:00:00             0   \n",
       "3       smart              nein  2016-03-12 00:00:00             0   \n",
       "4        ford              nein  2016-04-01 00:00:00             0   \n",
       "\n",
       "   postalCode             lastSeen  \n",
       "0       79588  2016-04-06 06:45:54  \n",
       "1       71034  2016-04-06 14:45:08  \n",
       "2       35394  2016-04-06 20:15:37  \n",
       "3       33729  2016-03-15 03:16:28  \n",
       "4       39218  2016-04-01 14:38:50  "
      ]
     },
     "execution_count": 40,
     "metadata": {},
     "output_type": "execute_result"
    }
   ],
   "source": [
    "autos.head(5)"
   ]
  },
  {
   "cell_type": "code",
   "execution_count": 41,
   "metadata": {},
   "outputs": [
    {
     "data": {
      "text/plain": [
       "(50000, 20)"
      ]
     },
     "execution_count": 41,
     "metadata": {},
     "output_type": "execute_result"
    }
   ],
   "source": [
    "autos.shape"
   ]
  },
  {
   "cell_type": "markdown",
   "metadata": {},
   "source": [
    "- The dataset has 20 columns and 50000 rows. There are 5 numeric (`int64`) and 15 string (`object`) columns.\n",
    "- Some columns have null values, but none have more than ~20%\n",
    "- The columns are written in CamelCase intead of Python's prefreed snake_case"
   ]
  },
  {
   "cell_type": "markdown",
   "metadata": {},
   "source": [
    "## Converting CamelCase to snake_case"
   ]
  },
  {
   "cell_type": "code",
   "execution_count": 42,
   "metadata": {},
   "outputs": [
    {
     "data": {
      "text/plain": [
       "Index(['dateCrawled', 'name', 'seller', 'offerType', 'price', 'abtest',\n",
       "       'vehicleType', 'yearOfRegistration', 'gearbox', 'powerPS', 'model',\n",
       "       'odometer', 'monthOfRegistration', 'fuelType', 'brand',\n",
       "       'notRepairedDamage', 'dateCreated', 'nrOfPictures', 'postalCode',\n",
       "       'lastSeen'],\n",
       "      dtype='object')"
      ]
     },
     "execution_count": 42,
     "metadata": {},
     "output_type": "execute_result"
    }
   ],
   "source": [
    "autos.columns"
   ]
  },
  {
   "cell_type": "code",
   "execution_count": 43,
   "metadata": {},
   "outputs": [],
   "source": [
    "new_columns = ['date_crawled', 'name', 'seller', 'offer_type', 'price', 'abtest',\n",
    "       'vehicle_type', 'registration_year', 'gearbox', 'power_ps', 'model',\n",
    "       'odometer', 'registration_month', 'fuel_type', 'brand',\n",
    "       'unrepaired_damage', 'ad_created', 'n_pictures', 'postal_code',\n",
    "       'last_seen']\n",
    "autos.columns = new_columns\n",
    "\n"
   ]
  },
  {
   "cell_type": "code",
   "execution_count": 44,
   "metadata": {},
   "outputs": [
    {
     "data": {
      "text/plain": [
       "Index(['date_crawled', 'name', 'seller', 'offer_type', 'price', 'abtest',\n",
       "       'vehicle_type', 'registration_year', 'gearbox', 'power_ps', 'model',\n",
       "       'odometer', 'registration_month', 'fuel_type', 'brand',\n",
       "       'unrepaired_damage', 'ad_created', 'n_pictures', 'postal_code',\n",
       "       'last_seen'],\n",
       "      dtype='object')"
      ]
     },
     "execution_count": 44,
     "metadata": {},
     "output_type": "execute_result"
    }
   ],
   "source": [
    "autos.columns"
   ]
  },
  {
   "cell_type": "markdown",
   "metadata": {},
   "source": [
    "We have changed the column names so that they match Python's preferred [snakecase](https://en.wikipedia.org/wiki/Snake_case) instead of the current [camelcase](https://en.wikipedia.org/wiki/Camel_case). "
   ]
  },
  {
   "cell_type": "code",
   "execution_count": 45,
   "metadata": {},
   "outputs": [
    {
     "data": {
      "text/html": [
       "<div>\n",
       "<style scoped>\n",
       "    .dataframe tbody tr th:only-of-type {\n",
       "        vertical-align: middle;\n",
       "    }\n",
       "\n",
       "    .dataframe tbody tr th {\n",
       "        vertical-align: top;\n",
       "    }\n",
       "\n",
       "    .dataframe thead th {\n",
       "        text-align: right;\n",
       "    }\n",
       "</style>\n",
       "<table border=\"1\" class=\"dataframe\">\n",
       "  <thead>\n",
       "    <tr style=\"text-align: right;\">\n",
       "      <th></th>\n",
       "      <th>date_crawled</th>\n",
       "      <th>name</th>\n",
       "      <th>seller</th>\n",
       "      <th>offer_type</th>\n",
       "      <th>price</th>\n",
       "      <th>abtest</th>\n",
       "      <th>vehicle_type</th>\n",
       "      <th>registration_year</th>\n",
       "      <th>gearbox</th>\n",
       "      <th>power_ps</th>\n",
       "      <th>model</th>\n",
       "      <th>odometer</th>\n",
       "      <th>registration_month</th>\n",
       "      <th>fuel_type</th>\n",
       "      <th>brand</th>\n",
       "      <th>unrepaired_damage</th>\n",
       "      <th>ad_created</th>\n",
       "      <th>n_pictures</th>\n",
       "      <th>postal_code</th>\n",
       "      <th>last_seen</th>\n",
       "    </tr>\n",
       "  </thead>\n",
       "  <tbody>\n",
       "    <tr>\n",
       "      <th>count</th>\n",
       "      <td>50000</td>\n",
       "      <td>50000</td>\n",
       "      <td>50000</td>\n",
       "      <td>50000</td>\n",
       "      <td>50000</td>\n",
       "      <td>50000</td>\n",
       "      <td>44905</td>\n",
       "      <td>50000.000000</td>\n",
       "      <td>47320</td>\n",
       "      <td>50000.000000</td>\n",
       "      <td>47242</td>\n",
       "      <td>50000</td>\n",
       "      <td>50000.000000</td>\n",
       "      <td>45518</td>\n",
       "      <td>50000</td>\n",
       "      <td>40171</td>\n",
       "      <td>50000</td>\n",
       "      <td>50000.0</td>\n",
       "      <td>50000.000000</td>\n",
       "      <td>50000</td>\n",
       "    </tr>\n",
       "    <tr>\n",
       "      <th>unique</th>\n",
       "      <td>48213</td>\n",
       "      <td>38754</td>\n",
       "      <td>2</td>\n",
       "      <td>2</td>\n",
       "      <td>2357</td>\n",
       "      <td>2</td>\n",
       "      <td>8</td>\n",
       "      <td>NaN</td>\n",
       "      <td>2</td>\n",
       "      <td>NaN</td>\n",
       "      <td>245</td>\n",
       "      <td>13</td>\n",
       "      <td>NaN</td>\n",
       "      <td>7</td>\n",
       "      <td>40</td>\n",
       "      <td>2</td>\n",
       "      <td>76</td>\n",
       "      <td>NaN</td>\n",
       "      <td>NaN</td>\n",
       "      <td>39481</td>\n",
       "    </tr>\n",
       "    <tr>\n",
       "      <th>top</th>\n",
       "      <td>2016-03-23 18:39:34</td>\n",
       "      <td>Ford_Fiesta</td>\n",
       "      <td>privat</td>\n",
       "      <td>Angebot</td>\n",
       "      <td>$0</td>\n",
       "      <td>test</td>\n",
       "      <td>limousine</td>\n",
       "      <td>NaN</td>\n",
       "      <td>manuell</td>\n",
       "      <td>NaN</td>\n",
       "      <td>golf</td>\n",
       "      <td>150,000km</td>\n",
       "      <td>NaN</td>\n",
       "      <td>benzin</td>\n",
       "      <td>volkswagen</td>\n",
       "      <td>nein</td>\n",
       "      <td>2016-04-03 00:00:00</td>\n",
       "      <td>NaN</td>\n",
       "      <td>NaN</td>\n",
       "      <td>2016-04-07 06:17:27</td>\n",
       "    </tr>\n",
       "    <tr>\n",
       "      <th>freq</th>\n",
       "      <td>3</td>\n",
       "      <td>78</td>\n",
       "      <td>49999</td>\n",
       "      <td>49999</td>\n",
       "      <td>1421</td>\n",
       "      <td>25756</td>\n",
       "      <td>12859</td>\n",
       "      <td>NaN</td>\n",
       "      <td>36993</td>\n",
       "      <td>NaN</td>\n",
       "      <td>4024</td>\n",
       "      <td>32424</td>\n",
       "      <td>NaN</td>\n",
       "      <td>30107</td>\n",
       "      <td>10687</td>\n",
       "      <td>35232</td>\n",
       "      <td>1946</td>\n",
       "      <td>NaN</td>\n",
       "      <td>NaN</td>\n",
       "      <td>8</td>\n",
       "    </tr>\n",
       "    <tr>\n",
       "      <th>mean</th>\n",
       "      <td>NaN</td>\n",
       "      <td>NaN</td>\n",
       "      <td>NaN</td>\n",
       "      <td>NaN</td>\n",
       "      <td>NaN</td>\n",
       "      <td>NaN</td>\n",
       "      <td>NaN</td>\n",
       "      <td>2005.073280</td>\n",
       "      <td>NaN</td>\n",
       "      <td>116.355920</td>\n",
       "      <td>NaN</td>\n",
       "      <td>NaN</td>\n",
       "      <td>5.723360</td>\n",
       "      <td>NaN</td>\n",
       "      <td>NaN</td>\n",
       "      <td>NaN</td>\n",
       "      <td>NaN</td>\n",
       "      <td>0.0</td>\n",
       "      <td>50813.627300</td>\n",
       "      <td>NaN</td>\n",
       "    </tr>\n",
       "    <tr>\n",
       "      <th>std</th>\n",
       "      <td>NaN</td>\n",
       "      <td>NaN</td>\n",
       "      <td>NaN</td>\n",
       "      <td>NaN</td>\n",
       "      <td>NaN</td>\n",
       "      <td>NaN</td>\n",
       "      <td>NaN</td>\n",
       "      <td>105.712813</td>\n",
       "      <td>NaN</td>\n",
       "      <td>209.216627</td>\n",
       "      <td>NaN</td>\n",
       "      <td>NaN</td>\n",
       "      <td>3.711984</td>\n",
       "      <td>NaN</td>\n",
       "      <td>NaN</td>\n",
       "      <td>NaN</td>\n",
       "      <td>NaN</td>\n",
       "      <td>0.0</td>\n",
       "      <td>25779.747957</td>\n",
       "      <td>NaN</td>\n",
       "    </tr>\n",
       "    <tr>\n",
       "      <th>min</th>\n",
       "      <td>NaN</td>\n",
       "      <td>NaN</td>\n",
       "      <td>NaN</td>\n",
       "      <td>NaN</td>\n",
       "      <td>NaN</td>\n",
       "      <td>NaN</td>\n",
       "      <td>NaN</td>\n",
       "      <td>1000.000000</td>\n",
       "      <td>NaN</td>\n",
       "      <td>0.000000</td>\n",
       "      <td>NaN</td>\n",
       "      <td>NaN</td>\n",
       "      <td>0.000000</td>\n",
       "      <td>NaN</td>\n",
       "      <td>NaN</td>\n",
       "      <td>NaN</td>\n",
       "      <td>NaN</td>\n",
       "      <td>0.0</td>\n",
       "      <td>1067.000000</td>\n",
       "      <td>NaN</td>\n",
       "    </tr>\n",
       "    <tr>\n",
       "      <th>25%</th>\n",
       "      <td>NaN</td>\n",
       "      <td>NaN</td>\n",
       "      <td>NaN</td>\n",
       "      <td>NaN</td>\n",
       "      <td>NaN</td>\n",
       "      <td>NaN</td>\n",
       "      <td>NaN</td>\n",
       "      <td>1999.000000</td>\n",
       "      <td>NaN</td>\n",
       "      <td>70.000000</td>\n",
       "      <td>NaN</td>\n",
       "      <td>NaN</td>\n",
       "      <td>3.000000</td>\n",
       "      <td>NaN</td>\n",
       "      <td>NaN</td>\n",
       "      <td>NaN</td>\n",
       "      <td>NaN</td>\n",
       "      <td>0.0</td>\n",
       "      <td>30451.000000</td>\n",
       "      <td>NaN</td>\n",
       "    </tr>\n",
       "    <tr>\n",
       "      <th>50%</th>\n",
       "      <td>NaN</td>\n",
       "      <td>NaN</td>\n",
       "      <td>NaN</td>\n",
       "      <td>NaN</td>\n",
       "      <td>NaN</td>\n",
       "      <td>NaN</td>\n",
       "      <td>NaN</td>\n",
       "      <td>2003.000000</td>\n",
       "      <td>NaN</td>\n",
       "      <td>105.000000</td>\n",
       "      <td>NaN</td>\n",
       "      <td>NaN</td>\n",
       "      <td>6.000000</td>\n",
       "      <td>NaN</td>\n",
       "      <td>NaN</td>\n",
       "      <td>NaN</td>\n",
       "      <td>NaN</td>\n",
       "      <td>0.0</td>\n",
       "      <td>49577.000000</td>\n",
       "      <td>NaN</td>\n",
       "    </tr>\n",
       "    <tr>\n",
       "      <th>75%</th>\n",
       "      <td>NaN</td>\n",
       "      <td>NaN</td>\n",
       "      <td>NaN</td>\n",
       "      <td>NaN</td>\n",
       "      <td>NaN</td>\n",
       "      <td>NaN</td>\n",
       "      <td>NaN</td>\n",
       "      <td>2008.000000</td>\n",
       "      <td>NaN</td>\n",
       "      <td>150.000000</td>\n",
       "      <td>NaN</td>\n",
       "      <td>NaN</td>\n",
       "      <td>9.000000</td>\n",
       "      <td>NaN</td>\n",
       "      <td>NaN</td>\n",
       "      <td>NaN</td>\n",
       "      <td>NaN</td>\n",
       "      <td>0.0</td>\n",
       "      <td>71540.000000</td>\n",
       "      <td>NaN</td>\n",
       "    </tr>\n",
       "    <tr>\n",
       "      <th>max</th>\n",
       "      <td>NaN</td>\n",
       "      <td>NaN</td>\n",
       "      <td>NaN</td>\n",
       "      <td>NaN</td>\n",
       "      <td>NaN</td>\n",
       "      <td>NaN</td>\n",
       "      <td>NaN</td>\n",
       "      <td>9999.000000</td>\n",
       "      <td>NaN</td>\n",
       "      <td>17700.000000</td>\n",
       "      <td>NaN</td>\n",
       "      <td>NaN</td>\n",
       "      <td>12.000000</td>\n",
       "      <td>NaN</td>\n",
       "      <td>NaN</td>\n",
       "      <td>NaN</td>\n",
       "      <td>NaN</td>\n",
       "      <td>0.0</td>\n",
       "      <td>99998.000000</td>\n",
       "      <td>NaN</td>\n",
       "    </tr>\n",
       "  </tbody>\n",
       "</table>\n",
       "</div>"
      ],
      "text/plain": [
       "               date_crawled         name  seller offer_type  price abtest  \\\n",
       "count                 50000        50000   50000      50000  50000  50000   \n",
       "unique                48213        38754       2          2   2357      2   \n",
       "top     2016-03-23 18:39:34  Ford_Fiesta  privat    Angebot     $0   test   \n",
       "freq                      3           78   49999      49999   1421  25756   \n",
       "mean                    NaN          NaN     NaN        NaN    NaN    NaN   \n",
       "std                     NaN          NaN     NaN        NaN    NaN    NaN   \n",
       "min                     NaN          NaN     NaN        NaN    NaN    NaN   \n",
       "25%                     NaN          NaN     NaN        NaN    NaN    NaN   \n",
       "50%                     NaN          NaN     NaN        NaN    NaN    NaN   \n",
       "75%                     NaN          NaN     NaN        NaN    NaN    NaN   \n",
       "max                     NaN          NaN     NaN        NaN    NaN    NaN   \n",
       "\n",
       "       vehicle_type  registration_year  gearbox      power_ps  model  \\\n",
       "count         44905       50000.000000    47320  50000.000000  47242   \n",
       "unique            8                NaN        2           NaN    245   \n",
       "top       limousine                NaN  manuell           NaN   golf   \n",
       "freq          12859                NaN    36993           NaN   4024   \n",
       "mean            NaN        2005.073280      NaN    116.355920    NaN   \n",
       "std             NaN         105.712813      NaN    209.216627    NaN   \n",
       "min             NaN        1000.000000      NaN      0.000000    NaN   \n",
       "25%             NaN        1999.000000      NaN     70.000000    NaN   \n",
       "50%             NaN        2003.000000      NaN    105.000000    NaN   \n",
       "75%             NaN        2008.000000      NaN    150.000000    NaN   \n",
       "max             NaN        9999.000000      NaN  17700.000000    NaN   \n",
       "\n",
       "         odometer  registration_month fuel_type       brand unrepaired_damage  \\\n",
       "count       50000        50000.000000     45518       50000             40171   \n",
       "unique         13                 NaN         7          40                 2   \n",
       "top     150,000km                 NaN    benzin  volkswagen              nein   \n",
       "freq        32424                 NaN     30107       10687             35232   \n",
       "mean          NaN            5.723360       NaN         NaN               NaN   \n",
       "std           NaN            3.711984       NaN         NaN               NaN   \n",
       "min           NaN            0.000000       NaN         NaN               NaN   \n",
       "25%           NaN            3.000000       NaN         NaN               NaN   \n",
       "50%           NaN            6.000000       NaN         NaN               NaN   \n",
       "75%           NaN            9.000000       NaN         NaN               NaN   \n",
       "max           NaN           12.000000       NaN         NaN               NaN   \n",
       "\n",
       "                 ad_created  n_pictures   postal_code            last_seen  \n",
       "count                 50000     50000.0  50000.000000                50000  \n",
       "unique                   76         NaN           NaN                39481  \n",
       "top     2016-04-03 00:00:00         NaN           NaN  2016-04-07 06:17:27  \n",
       "freq                   1946         NaN           NaN                    8  \n",
       "mean                    NaN         0.0  50813.627300                  NaN  \n",
       "std                     NaN         0.0  25779.747957                  NaN  \n",
       "min                     NaN         0.0   1067.000000                  NaN  \n",
       "25%                     NaN         0.0  30451.000000                  NaN  \n",
       "50%                     NaN         0.0  49577.000000                  NaN  \n",
       "75%                     NaN         0.0  71540.000000                  NaN  \n",
       "max                     NaN         0.0  99998.000000                  NaN  "
      ]
     },
     "execution_count": 45,
     "metadata": {},
     "output_type": "execute_result"
    }
   ],
   "source": [
    "autos.describe(include = \"all\")"
   ]
  },
  {
   "cell_type": "code",
   "execution_count": 46,
   "metadata": {},
   "outputs": [
    {
     "data": {
      "text/plain": [
       "privat        49999\n",
       "gewerblich        1\n",
       "Name: seller, dtype: int64"
      ]
     },
     "execution_count": 46,
     "metadata": {},
     "output_type": "execute_result"
    }
   ],
   "source": [
    "autos['seller'].value_counts()"
   ]
  },
  {
   "cell_type": "code",
   "execution_count": 47,
   "metadata": {},
   "outputs": [
    {
     "data": {
      "text/plain": [
       "Angebot    49999\n",
       "Gesuch         1\n",
       "Name: offer_type, dtype: int64"
      ]
     },
     "execution_count": 47,
     "metadata": {},
     "output_type": "execute_result"
    }
   ],
   "source": [
    "autos['offer_type'].value_counts()"
   ]
  },
  {
   "cell_type": "code",
   "execution_count": 48,
   "metadata": {},
   "outputs": [
    {
     "data": {
      "text/plain": [
       "test       25756\n",
       "control    24244\n",
       "Name: abtest, dtype: int64"
      ]
     },
     "execution_count": 48,
     "metadata": {},
     "output_type": "execute_result"
    }
   ],
   "source": [
    "autos['abtest'].value_counts()"
   ]
  },
  {
   "cell_type": "code",
   "execution_count": 49,
   "metadata": {},
   "outputs": [
    {
     "data": {
      "text/plain": [
       "manuell      36993\n",
       "automatik    10327\n",
       "Name: gearbox, dtype: int64"
      ]
     },
     "execution_count": 49,
     "metadata": {},
     "output_type": "execute_result"
    }
   ],
   "source": [
    "autos['gearbox'].value_counts()"
   ]
  },
  {
   "cell_type": "markdown",
   "metadata": {},
   "source": [
    "As we can seen the `seller` and `offer_type` has the most of the data(49999/50000) as one value, therefore the whole column will not be helpful in our analysis"
   ]
  },
  {
   "cell_type": "code",
   "execution_count": 50,
   "metadata": {},
   "outputs": [
    {
     "name": "stdout",
     "output_type": "stream",
     "text": [
      "0         $5,000\n",
      "1         $8,500\n",
      "2         $8,990\n",
      "3         $4,350\n",
      "4         $1,350\n",
      "          ...   \n",
      "49995    $24,900\n",
      "49996     $1,980\n",
      "49997    $13,200\n",
      "49998    $22,900\n",
      "49999     $1,250\n",
      "Name: price, Length: 50000, dtype: object\n",
      "\n",
      "\n",
      "0        150,000km\n",
      "1        150,000km\n",
      "2         70,000km\n",
      "3         70,000km\n",
      "4        150,000km\n",
      "           ...    \n",
      "49995    100,000km\n",
      "49996    150,000km\n",
      "49997      5,000km\n",
      "49998     40,000km\n",
      "49999    150,000km\n",
      "Name: odometer, Length: 50000, dtype: object\n"
     ]
    }
   ],
   "source": [
    "print(autos['price'])\n",
    "print('\\n')\n",
    "print(autos['odometer'])"
   ]
  },
  {
   "cell_type": "markdown",
   "metadata": {},
   "source": [
    "The `price` and `odometer` column has numerical data that might be helpful in our analysis. We need to:\n",
    "- Look at the patter of the column to find what to replace and strip to make column suitable for converting\n",
    "- Change the column name so they idicate the information that will be lost during conversion, e.g., `odometer` ->`odometer_km` "
   ]
  },
  {
   "cell_type": "code",
   "execution_count": 51,
   "metadata": {},
   "outputs": [
    {
     "data": {
      "text/plain": [
       "count    5.000000e+04\n",
       "mean     9.840044e+03\n",
       "std      4.811044e+05\n",
       "min      0.000000e+00\n",
       "25%      1.100000e+03\n",
       "50%      2.950000e+03\n",
       "75%      7.200000e+03\n",
       "max      1.000000e+08\n",
       "Name: price, dtype: float64"
      ]
     },
     "execution_count": 51,
     "metadata": {},
     "output_type": "execute_result"
    }
   ],
   "source": [
    "\n",
    "autos['price'] = autos['price'].str.replace(\"$\",'')\n",
    "autos['price'] = autos['price'].str.replace(\",\",'')\n",
    "autos['price'] = autos['price'].astype(int)\n",
    "autos['price'].describe()"
   ]
  },
  {
   "cell_type": "code",
   "execution_count": 52,
   "metadata": {},
   "outputs": [
    {
     "data": {
      "text/plain": [
       "count     50000.000000\n",
       "mean     125732.700000\n",
       "std       40042.211706\n",
       "min        5000.000000\n",
       "25%      125000.000000\n",
       "50%      150000.000000\n",
       "75%      150000.000000\n",
       "max      150000.000000\n",
       "Name: odometer, dtype: float64"
      ]
     },
     "execution_count": 52,
     "metadata": {},
     "output_type": "execute_result"
    }
   ],
   "source": [
    "autos['odometer'] = autos['odometer'].str.replace(\"km\",'')\n",
    "autos['odometer'] = autos['odometer'].str.replace(\",\",'')\n",
    "autos['odometer'] = autos['odometer'].astype(float)\n",
    "autos['odometer'].describe()\n"
   ]
  },
  {
   "cell_type": "code",
   "execution_count": 53,
   "metadata": {},
   "outputs": [],
   "source": [
    "autos.rename(columns = {'odometer':'odometer_km'}, inplace = True)"
   ]
  },
  {
   "cell_type": "code",
   "execution_count": 54,
   "metadata": {},
   "outputs": [
    {
     "data": {
      "text/plain": [
       "Index(['date_crawled', 'name', 'seller', 'offer_type', 'price', 'abtest',\n",
       "       'vehicle_type', 'registration_year', 'gearbox', 'power_ps', 'model',\n",
       "       'odometer_km', 'registration_month', 'fuel_type', 'brand',\n",
       "       'unrepaired_damage', 'ad_created', 'n_pictures', 'postal_code',\n",
       "       'last_seen'],\n",
       "      dtype='object')"
      ]
     },
     "execution_count": 54,
     "metadata": {},
     "output_type": "execute_result"
    }
   ],
   "source": [
    "autos.columns"
   ]
  },
  {
   "cell_type": "code",
   "execution_count": 55,
   "metadata": {},
   "outputs": [
    {
     "name": "stdout",
     "output_type": "stream",
     "text": [
      "(50000,)\n",
      "(50000,)\n"
     ]
    }
   ],
   "source": [
    "print(autos['price'].shape)\n",
    "print(autos['odometer_km'].shape)"
   ]
  },
  {
   "cell_type": "code",
   "execution_count": 56,
   "metadata": {},
   "outputs": [
    {
     "name": "stdout",
     "output_type": "stream",
     "text": [
      "count    5.000000e+04\n",
      "mean     9.840044e+03\n",
      "std      4.811044e+05\n",
      "min      0.000000e+00\n",
      "25%      1.100000e+03\n",
      "50%      2.950000e+03\n",
      "75%      7.200000e+03\n",
      "max      1.000000e+08\n",
      "Name: price, dtype: float64 \n",
      "\n",
      "count     50000.000000\n",
      "mean     125732.700000\n",
      "std       40042.211706\n",
      "min        5000.000000\n",
      "25%      125000.000000\n",
      "50%      150000.000000\n",
      "75%      150000.000000\n",
      "max      150000.000000\n",
      "Name: odometer_km, dtype: float64\n"
     ]
    }
   ],
   "source": [
    "print(autos['price'].describe(), '\\n')\n",
    "\n",
    "print(autos['odometer_km'].describe())"
   ]
  },
  {
   "cell_type": "code",
   "execution_count": 57,
   "metadata": {},
   "outputs": [
    {
     "name": "stdout",
     "output_type": "stream",
     "text": [
      "0       1421\n",
      "500      781\n",
      "1000     639\n",
      "1500     734\n",
      "2500     643\n",
      "Name: price, dtype: int64 \n",
      "\n",
      "150000.0    32424\n",
      "125000.0     5170\n",
      "100000.0     2169\n",
      "90000.0      1757\n",
      "80000.0      1436\n",
      "Name: odometer_km, dtype: int64\n"
     ]
    }
   ],
   "source": [
    "print(autos['price'].value_counts().head().sort_index(ascending = True), \"\\n\")\n",
    "print(autos['odometer_km'].value_counts().head())\n"
   ]
  },
  {
   "cell_type": "markdown",
   "metadata": {},
   "source": [
    "### Observations\n"
   ]
  },
  {
   "cell_type": "markdown",
   "metadata": {},
   "source": [
    "- We can see that a big number of \"price\" entries are at 0 value. Meaning that cars are put for free. It is unreasonable. Thus it is the first issue. Thus we will remove all of the entries with zero price tag\n",
    "- The `max` percentile of price is 100,000,000 with is considerably far from the `75` percentile number of `7200`. \n",
    "- Thus we will select the data that using the IQR (interquartile range) to remove outliers. \n"
   ]
  },
  {
   "cell_type": "code",
   "execution_count": 58,
   "metadata": {},
   "outputs": [
    {
     "name": "stdout",
     "output_type": "stream",
     "text": [
      "Interquartile Range:  6100\n",
      "Lower fence:  -8050.0\n",
      "Upper fence:  16350.0\n"
     ]
    }
   ],
   "source": [
    "price_25, price_75 = (1100, 7200)\n",
    "\n",
    "IQR = price_75 - price_25\n",
    "lower_fence = price_25 - (1.5*IQR)\n",
    "upper_fence = price_75 + (1.5*IQR)\n",
    "\n",
    "print('Interquartile Range: ', IQR)\n",
    "print('Lower fence: ', lower_fence)\n",
    "print('Upper fence: ', upper_fence)"
   ]
  },
  {
   "cell_type": "code",
   "execution_count": 59,
   "metadata": {},
   "outputs": [],
   "source": [
    "autos['price'] = autos['price'].astype(int)"
   ]
  },
  {
   "cell_type": "code",
   "execution_count": 60,
   "metadata": {},
   "outputs": [],
   "source": [
    "autos = autos[(autos[\"price\"] >= 1 ) & (autos[\"price\"] <= upper_fence )]"
   ]
  },
  {
   "cell_type": "code",
   "execution_count": 61,
   "metadata": {},
   "outputs": [
    {
     "data": {
      "text/html": [
       "<div>\n",
       "<style scoped>\n",
       "    .dataframe tbody tr th:only-of-type {\n",
       "        vertical-align: middle;\n",
       "    }\n",
       "\n",
       "    .dataframe tbody tr th {\n",
       "        vertical-align: top;\n",
       "    }\n",
       "\n",
       "    .dataframe thead th {\n",
       "        text-align: right;\n",
       "    }\n",
       "</style>\n",
       "<table border=\"1\" class=\"dataframe\">\n",
       "  <thead>\n",
       "    <tr style=\"text-align: right;\">\n",
       "      <th></th>\n",
       "      <th>price</th>\n",
       "      <th>registration_year</th>\n",
       "      <th>power_ps</th>\n",
       "      <th>odometer_km</th>\n",
       "      <th>registration_month</th>\n",
       "      <th>n_pictures</th>\n",
       "      <th>postal_code</th>\n",
       "    </tr>\n",
       "  </thead>\n",
       "  <tbody>\n",
       "    <tr>\n",
       "      <th>count</th>\n",
       "      <td>44795.000000</td>\n",
       "      <td>44795.00000</td>\n",
       "      <td>44795.000000</td>\n",
       "      <td>44795.000000</td>\n",
       "      <td>44795.000000</td>\n",
       "      <td>44795.0</td>\n",
       "      <td>44795.000000</td>\n",
       "    </tr>\n",
       "    <tr>\n",
       "      <th>mean</th>\n",
       "      <td>4089.433620</td>\n",
       "      <td>2003.97339</td>\n",
       "      <td>109.394910</td>\n",
       "      <td>129762.361871</td>\n",
       "      <td>5.744012</td>\n",
       "      <td>0.0</td>\n",
       "      <td>50502.431789</td>\n",
       "    </tr>\n",
       "    <tr>\n",
       "      <th>std</th>\n",
       "      <td>3841.429247</td>\n",
       "      <td>74.81955</td>\n",
       "      <td>205.150622</td>\n",
       "      <td>36398.554742</td>\n",
       "      <td>3.707064</td>\n",
       "      <td>0.0</td>\n",
       "      <td>25726.937446</td>\n",
       "    </tr>\n",
       "    <tr>\n",
       "      <th>min</th>\n",
       "      <td>1.000000</td>\n",
       "      <td>1000.00000</td>\n",
       "      <td>0.000000</td>\n",
       "      <td>5000.000000</td>\n",
       "      <td>0.000000</td>\n",
       "      <td>0.0</td>\n",
       "      <td>1067.000000</td>\n",
       "    </tr>\n",
       "    <tr>\n",
       "      <th>25%</th>\n",
       "      <td>1150.000000</td>\n",
       "      <td>1999.00000</td>\n",
       "      <td>68.000000</td>\n",
       "      <td>125000.000000</td>\n",
       "      <td>3.000000</td>\n",
       "      <td>0.0</td>\n",
       "      <td>30159.000000</td>\n",
       "    </tr>\n",
       "    <tr>\n",
       "      <th>50%</th>\n",
       "      <td>2700.000000</td>\n",
       "      <td>2003.00000</td>\n",
       "      <td>102.000000</td>\n",
       "      <td>150000.000000</td>\n",
       "      <td>6.000000</td>\n",
       "      <td>0.0</td>\n",
       "      <td>49356.000000</td>\n",
       "    </tr>\n",
       "    <tr>\n",
       "      <th>75%</th>\n",
       "      <td>5999.000000</td>\n",
       "      <td>2007.00000</td>\n",
       "      <td>140.000000</td>\n",
       "      <td>150000.000000</td>\n",
       "      <td>9.000000</td>\n",
       "      <td>0.0</td>\n",
       "      <td>71069.000000</td>\n",
       "    </tr>\n",
       "    <tr>\n",
       "      <th>max</th>\n",
       "      <td>16350.000000</td>\n",
       "      <td>9999.00000</td>\n",
       "      <td>17700.000000</td>\n",
       "      <td>150000.000000</td>\n",
       "      <td>12.000000</td>\n",
       "      <td>0.0</td>\n",
       "      <td>99998.000000</td>\n",
       "    </tr>\n",
       "  </tbody>\n",
       "</table>\n",
       "</div>"
      ],
      "text/plain": [
       "              price  registration_year      power_ps    odometer_km  \\\n",
       "count  44795.000000        44795.00000  44795.000000   44795.000000   \n",
       "mean    4089.433620         2003.97339    109.394910  129762.361871   \n",
       "std     3841.429247           74.81955    205.150622   36398.554742   \n",
       "min        1.000000         1000.00000      0.000000    5000.000000   \n",
       "25%     1150.000000         1999.00000     68.000000  125000.000000   \n",
       "50%     2700.000000         2003.00000    102.000000  150000.000000   \n",
       "75%     5999.000000         2007.00000    140.000000  150000.000000   \n",
       "max    16350.000000         9999.00000  17700.000000  150000.000000   \n",
       "\n",
       "       registration_month  n_pictures   postal_code  \n",
       "count        44795.000000     44795.0  44795.000000  \n",
       "mean             5.744012         0.0  50502.431789  \n",
       "std              3.707064         0.0  25726.937446  \n",
       "min              0.000000         0.0   1067.000000  \n",
       "25%              3.000000         0.0  30159.000000  \n",
       "50%              6.000000         0.0  49356.000000  \n",
       "75%              9.000000         0.0  71069.000000  \n",
       "max             12.000000         0.0  99998.000000  "
      ]
     },
     "execution_count": 61,
     "metadata": {},
     "output_type": "execute_result"
    }
   ],
   "source": [
    "autos.describe()"
   ]
  },
  {
   "cell_type": "markdown",
   "metadata": {},
   "source": [
    "As we removed the outliers, the 75% number and max number has changed and became more realistic."
   ]
  },
  {
   "cell_type": "markdown",
   "metadata": {},
   "source": [
    "### Solving date issue\n"
   ]
  },
  {
   "cell_type": "code",
   "execution_count": 76,
   "metadata": {},
   "outputs": [],
   "source": [
    "date_crawled_day = autos['date_crawled'].str[:10]"
   ]
  },
  {
   "cell_type": "code",
   "execution_count": 79,
   "metadata": {},
   "outputs": [
    {
     "data": {
      "text/plain": [
       "2016-03-05    0.025516\n",
       "2016-03-06    0.013997\n",
       "2016-03-07    0.036098\n",
       "2016-03-08    0.033642\n",
       "2016-03-09    0.033129\n",
       "2016-03-10    0.032705\n",
       "2016-03-11    0.032481\n",
       "2016-03-12    0.037393\n",
       "2016-03-13    0.015604\n",
       "2016-03-14    0.036991\n",
       "2016-03-15    0.034178\n",
       "2016-03-16    0.029959\n",
       "2016-03-17    0.031990\n",
       "2016-03-18    0.012769\n",
       "2016-03-19    0.034200\n",
       "2016-03-20    0.037705\n",
       "2016-03-21    0.037192\n",
       "2016-03-22    0.032727\n",
       "2016-03-23    0.032481\n",
       "2016-03-24    0.029378\n",
       "2016-03-25    0.032013\n",
       "2016-03-26    0.032593\n",
       "2016-03-27    0.030718\n",
       "2016-03-28    0.034781\n",
       "2016-03-29    0.034200\n",
       "2016-03-30    0.033865\n",
       "2016-03-31    0.031588\n",
       "2016-04-01    0.032794\n",
       "2016-04-02    0.034982\n",
       "2016-04-03    0.038531\n",
       "2016-04-04    0.036366\n",
       "2016-04-05    0.012948\n",
       "2016-04-06    0.003170\n",
       "2016-04-07    0.001317\n",
       "Name: date_crawled, dtype: float64"
      ]
     },
     "execution_count": 79,
     "metadata": {},
     "output_type": "execute_result"
    }
   ],
   "source": [
    "date_crawled_day.value_counts(normalize = True, dropna= False).sort_index()"
   ]
  },
  {
   "cell_type": "markdown",
   "metadata": {},
   "source": [
    "- As we can see the majority of the date was crawled in March and April"
   ]
  },
  {
   "cell_type": "code",
   "execution_count": 80,
   "metadata": {},
   "outputs": [],
   "source": [
    "ad_created_d = autos['ad_created'].str[:10]"
   ]
  },
  {
   "cell_type": "code",
   "execution_count": 84,
   "metadata": {},
   "outputs": [
    {
     "data": {
      "text/plain": [
       "2015-08-10    0.000022\n",
       "2015-09-09    0.000022\n",
       "2015-11-10    0.000022\n",
       "2015-12-05    0.000022\n",
       "2015-12-30    0.000022\n",
       "                ...   \n",
       "2016-04-03    0.038799\n",
       "2016-04-04    0.036701\n",
       "2016-04-05    0.011653\n",
       "2016-04-06    0.003237\n",
       "2016-04-07    0.001183\n",
       "Name: ad_created, Length: 73, dtype: float64"
      ]
     },
     "execution_count": 84,
     "metadata": {},
     "output_type": "execute_result"
    }
   ],
   "source": [
    "ad_created_d.value_counts(normalize = True, dropna = False).sort_index()"
   ]
  },
  {
   "cell_type": "markdown",
   "metadata": {},
   "source": [
    "The first ad time ad was shown was on 2015-08-10 and the last ad was shown on 2016-04-07"
   ]
  },
  {
   "cell_type": "code",
   "execution_count": 85,
   "metadata": {},
   "outputs": [],
   "source": [
    "last_seen_d = autos['last_seen'].str[:10]"
   ]
  },
  {
   "cell_type": "code",
   "execution_count": 86,
   "metadata": {},
   "outputs": [
    {
     "data": {
      "text/plain": [
       "2016-03-05    0.001161\n",
       "2016-03-06    0.004576\n",
       "2016-03-07    0.005693\n",
       "2016-03-08    0.007903\n",
       "2016-03-09    0.010068\n",
       "2016-03-10    0.011162\n",
       "2016-03-11    0.013037\n",
       "2016-03-12    0.024936\n",
       "2016-03-13    0.009376\n",
       "2016-03-14    0.012859\n",
       "2016-03-15    0.016274\n",
       "2016-03-16    0.016966\n",
       "2016-03-17    0.029043\n",
       "2016-03-18    0.007568\n",
       "2016-03-19    0.016475\n",
       "2016-03-20    0.021230\n",
       "2016-03-21    0.021185\n",
       "2016-03-22    0.021922\n",
       "2016-03-23    0.019109\n",
       "2016-03-24    0.020449\n",
       "2016-03-25    0.020002\n",
       "2016-03-26    0.017234\n",
       "2016-03-27    0.016207\n",
       "2016-03-28    0.021699\n",
       "2016-03-29    0.023016\n",
       "2016-03-30    0.025472\n",
       "2016-03-31    0.024333\n",
       "2016-04-01    0.023306\n",
       "2016-04-02    0.025226\n",
       "2016-04-03    0.025673\n",
       "2016-04-04    0.025047\n",
       "2016-04-05    0.121286\n",
       "2016-04-06    0.214332\n",
       "2016-04-07    0.126175\n",
       "Name: last_seen, dtype: float64"
      ]
     },
     "execution_count": 86,
     "metadata": {},
     "output_type": "execute_result"
    }
   ],
   "source": [
    "last_seen_d.value_counts(normalize = True, dropna = False).sort_index()"
   ]
  },
  {
   "cell_type": "markdown",
   "metadata": {},
   "source": [
    "- The column has data only from 2016 and only from March to April"
   ]
  },
  {
   "cell_type": "code",
   "execution_count": 90,
   "metadata": {},
   "outputs": [
    {
     "data": {
      "text/plain": [
       "22316    1000\n",
       "49283    1001\n",
       "24511    1111\n",
       "32585    1800\n",
       "10556    1800\n",
       "         ... \n",
       "24519    5000\n",
       "27618    5911\n",
       "25003    8888\n",
       "8012     9999\n",
       "33950    9999\n",
       "Name: registration_year, Length: 44795, dtype: int64"
      ]
     },
     "execution_count": 90,
     "metadata": {},
     "output_type": "execute_result"
    }
   ],
   "source": [
    "autos['registration_year'].sort_values()"
   ]
  },
  {
   "cell_type": "markdown",
   "metadata": {},
   "source": [
    "As we can seen the maximum for the `registration_year` is impossible outlier. "
   ]
  },
  {
   "cell_type": "code",
   "execution_count": 91,
   "metadata": {},
   "outputs": [],
   "source": [
    "autos = autos[autos['registration_year'].between(1999, 2016)]"
   ]
  },
  {
   "cell_type": "code",
   "execution_count": 92,
   "metadata": {},
   "outputs": [
    {
     "data": {
      "text/plain": [
       "count    32881.000000\n",
       "mean      2004.966333\n",
       "std          4.362295\n",
       "min       1999.000000\n",
       "25%       2001.000000\n",
       "50%       2005.000000\n",
       "75%       2008.000000\n",
       "max       2016.000000\n",
       "Name: registration_year, dtype: float64"
      ]
     },
     "execution_count": 92,
     "metadata": {},
     "output_type": "execute_result"
    }
   ],
   "source": [
    "autos['registration_year'].describe()"
   ]
  },
  {
   "cell_type": "markdown",
   "metadata": {},
   "source": [
    "- As we can see the data looks more reasonable now."
   ]
  },
  {
   "cell_type": "code",
   "execution_count": 102,
   "metadata": {
    "scrolled": true
   },
   "outputs": [],
   "source": [
    "m = autos['brand'].value_counts().sort_values( ascending = False)"
   ]
  },
  {
   "cell_type": "code",
   "execution_count": 115,
   "metadata": {},
   "outputs": [
    {
     "data": {
      "text/plain": [
       "[('renault', 2632.4903628117913),\n",
       " ('fiat', 2945.0986775178026),\n",
       " ('ford', 3325.611154144074),\n",
       " ('opel', 3329.9770052012045),\n",
       " ('mitsubishi', 3362.131672597865),\n",
       " ('smart', 3578.8213740458013),\n",
       " ('citroen', 3725.6632478632478),\n",
       " ('mazda', 4173.722735674676),\n",
       " ('seat', 4305.561505065123),\n",
       " ('nissan', 4623.586206896552),\n",
       " ('kia', 4656.083333333333),\n",
       " ('volvo', 4993.030651340996),\n",
       " ('hyundai', 5005.177676537585),\n",
       " ('toyota', 5097.628691983123),\n",
       " ('volkswagen', 5272.842228100202),\n",
       " ('skoda', 5771.890313390313),\n",
       " ('mercedes_benz', 5996.428774422735),\n",
       " ('bmw', 6876.574147988947),\n",
       " ('audi', 6974.827572663001),\n",
       " ('peugeout', nan),\n",
       " ('mini', 8391.222222222223)]"
      ]
     },
     "execution_count": 115,
     "metadata": {},
     "output_type": "execute_result"
    }
   ],
   "source": [
    "top_brands_dic = {}\n",
    "top_brands= [ 'volkswagen', 'opel','bmw', 'mercedes_benz', 'ford', 'audi', 'renault', 'peugeout', 'fiat', 'skoda', 'seat', 'smart', 'citroen', 'mazda', 'nissan', 'toyota', 'hyundai', 'mini', 'kia', 'mitsubishi', 'volvo']\n",
    "\n",
    "\n",
    "for b in top_brands:\n",
    "    selected_rows = autos[autos['brand'] == b]\n",
    "    mean_price = selected_rows['price'].mean()\n",
    "    top_brands_dic[b] = mean_price\n",
    "    \n",
    "top_brands_final = sorted(top_brands_dic.items(), key=lambda x:x[1])\n",
    "top_brands_final\n",
    "    \n",
    "    "
   ]
  },
  {
   "cell_type": "markdown",
   "metadata": {},
   "source": [
    "As we can the most expensive cars listed on the page by average are `mini`, `audi`, `bmw`, `mercedez_benz`and `skoda`"
   ]
  },
  {
   "cell_type": "code",
   "execution_count": null,
   "metadata": {},
   "outputs": [],
   "source": []
  }
 ],
 "metadata": {
  "kernelspec": {
   "display_name": "Python 3",
   "language": "python",
   "name": "python3"
  },
  "language_info": {
   "codemirror_mode": {
    "name": "ipython",
    "version": 3
   },
   "file_extension": ".py",
   "mimetype": "text/x-python",
   "name": "python",
   "nbconvert_exporter": "python",
   "pygments_lexer": "ipython3",
   "version": "3.8.2"
  }
 },
 "nbformat": 4,
 "nbformat_minor": 2
}
