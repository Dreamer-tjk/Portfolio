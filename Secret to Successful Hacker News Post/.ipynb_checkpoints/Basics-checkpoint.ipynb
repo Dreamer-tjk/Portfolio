{
 "cells": [
  {
   "cell_type": "markdown",
   "metadata": {
    "collapsed": true
   },
   "source": [
    "# Secret of Best Hacker News Post"
   ]
  },
  {
   "cell_type": "markdown",
   "metadata": {},
   "source": [
    "- In this project the data provided by Hacker News will be analyzed. You can find the dataset [here](https://www.kaggle.com/datasets/hacker-news/hacker-news-posts).\n",
    "- More specifically two types of post will be compared to find which receives more comments on average. ``Ask HN`` or ``Show HN``\n",
    "- Lastly, how does time factor affects the number comments on average"
   ]
  },
  {
   "cell_type": "code",
   "execution_count": null,
   "metadata": {},
   "outputs": [],
   "source": [
    "from csv import reader"
   ]
  },
  {
   "cell_type": "code",
   "execution_count": null,
   "metadata": {},
   "outputs": [],
   "source": []
  },
  {
   "cell_type": "code",
   "execution_count": 7,
   "metadata": {},
   "outputs": [],
   "source": [
    "def extract_data(file):\n",
    "    \"\"\"locates file using filepath, reads it, then returns a list of lists\"\"\"\n",
    "    \n",
    "    opened_file = open(file)\n",
    "    read_file = reader(opened_file)\n",
    "    result = list(read_file)\n",
    "    \n",
    "    # return both the column headers and the actual data as seperate entities\n",
    "    return result[0], result[1:]"
   ]
  },
  {
   "cell_type": "code",
   "execution_count": 8,
   "metadata": {},
   "outputs": [],
   "source": [
    "header, hn = extract_data('hacker_news.csv')"
   ]
  },
  {
   "cell_type": "code",
   "execution_count": 9,
   "metadata": {},
   "outputs": [
    {
     "data": {
      "text/plain": [
       "['id', 'title', 'url', 'num_points', 'num_comments', 'author', 'created_at']"
      ]
     },
     "execution_count": 9,
     "metadata": {},
     "output_type": "execute_result"
    }
   ],
   "source": [
    "headere"
   ]
  },
  {
   "cell_type": "code",
   "execution_count": 16,
   "metadata": {},
   "outputs": [],
   "source": [
    "def explore_data(dataset, start, end, n_rows_columns = False):\n",
    "    \n",
    "    dataset_slice = dataset[start:end]\n",
    "    \n",
    "    for row in dataset_slice:\n",
    "        print(row)\n",
    "        print('\\n')\n",
    "        \n",
    "    if n_rows_columns:\n",
    "        print('The number of rows: {:,}'.format(len(dataset)))\n",
    "        print('The number of columns: ', len(dataset[0]))\n",
    "              \n",
    "              \n",
    "#           if rows_and_columns:\n",
    "#         print('Number of rows: {:,}'.format(len(dataset)))\n",
    "#         print('Number of columns:', len(dataset[0]))"
   ]
  },
  {
   "cell_type": "code",
   "execution_count": 19,
   "metadata": {
    "scrolled": true
   },
   "outputs": [
    {
     "name": "stdout",
     "output_type": "stream",
     "text": [
      "['12224879', 'Interactive Dynamic Video', 'http://www.interactivedynamicvideo.com/', '386', '52', 'ne0phyte', '8/4/2016 11:52']\n",
      "\n",
      "\n",
      "['10975351', 'How to Use Open Source and Shut the Fuck Up at the Same Time', 'http://hueniverse.com/2016/01/26/how-to-use-open-source-and-shut-the-fuck-up-at-the-same-time/', '39', '10', 'josep2', '1/26/2016 19:30']\n",
      "\n",
      "\n",
      "['11964716', \"Florida DJs May Face Felony for April Fools' Water Joke\", 'http://www.thewire.com/entertainment/2013/04/florida-djs-april-fools-water-joke/63798/', '2', '1', 'vezycash', '6/23/2016 22:20']\n",
      "\n",
      "\n",
      "['11919867', 'Technology ventures: From Idea to Enterprise', 'https://www.amazon.com/Technology-Ventures-Enterprise-Thomas-Byers/dp/0073523429', '3', '1', 'hswarna', '6/17/2016 0:01']\n",
      "\n",
      "\n",
      "['10301696', 'Note by Note: The Making of Steinway L1037 (2007)', 'http://www.nytimes.com/2007/11/07/movies/07stein.html?_r=0', '8', '2', 'walterbell', '9/30/2015 4:12']\n",
      "\n",
      "\n",
      "The number of rows: 20,100\n",
      "The number of columns:  7\n"
     ]
    }
   ],
   "source": [
    "explore_data(hn, 0, 5, n_rows_columns = True)"
   ]
  },
  {
   "cell_type": "code",
   "execution_count": 26,
   "metadata": {},
   "outputs": [],
   "source": [
    "ask_posts = []\n",
    "show_posts = []\n",
    "other_posts = []\n",
    "\n",
    "for row in hn:\n",
    "    title = row[1]\n",
    "    if title.lower().startswith('ask hn'):\n",
    "        ask_posts.append(row)\n",
    "    elif title.lower().startswith('show hn'):\n",
    "        show_posts.append(row)\n",
    "    else:\n",
    "        other_posts.append(row)\n"
   ]
  },
  {
   "cell_type": "code",
   "execution_count": 36,
   "metadata": {},
   "outputs": [
    {
     "name": "stdout",
     "output_type": "stream",
     "text": [
      "The number of ask hn posts are: 1,744 (9%)\n",
      "The number of show hn posts are: 1,162 (6%)\n",
      "The number of other posts are: 17,194 (86%)\n"
     ]
    }
   ],
   "source": [
    "template = 'The number of {} posts are: {:,} ({:.0f}%)'\n",
    "    \n",
    "    \n",
    "print(template.format('ask hn', len(ask_posts), len(ask_posts)/len(hn)* 100))\n",
    "print(template.format('show hn', len(show_posts), len(show_posts)/len(hn)* 100))\n",
    "print(template.format('other', len(other_posts), len(other_posts)/len(hn)* 100))\n"
   ]
  },
  {
   "cell_type": "code",
   "execution_count": 43,
   "metadata": {},
   "outputs": [
    {
     "name": "stdout",
     "output_type": "stream",
     "text": [
      "The average num of comment in ask posts is: 14.04\n",
      "The average number of comments in show posts is: 10.32\n"
     ]
    }
   ],
   "source": [
    "total_ask_comments = 0\n",
    "for post in ask_posts:\n",
    "    n_comments = int(post[4])\n",
    "    total_ask_comments += n_comments\n",
    "avg_ask_comments = total_ask_comments / len(ask_posts)\n",
    "print(\"The average num of comment in ask posts is: {:.2f}\".format(avg_ask_comments))\n",
    "\n",
    "total_show_comments = 0\n",
    "for post in show_posts:\n",
    "    n_comments = int(post[4])\n",
    "    total_show_comments += n_comments\n",
    "avg_show_comments = total_show_comments / len(show_posts)\n",
    "print(\"The average number of comments in show posts is: {:.2f}\".format(avg_show_comments))\n"
   ]
  },
  {
   "cell_type": "markdown",
   "metadata": {},
   "source": [
    "- As we see. ``Ask posts`` receive on average more comments than their ``Show`` counterparts. **14.04** VS **10.32**"
   ]
  },
  {
   "cell_type": "code",
   "execution_count": 44,
   "metadata": {},
   "outputs": [],
   "source": [
    "import datetime as dt"
   ]
  },
  {
   "cell_type": "code",
   "execution_count": 45,
   "metadata": {},
   "outputs": [
    {
     "name": "stdout",
     "output_type": "stream",
     "text": [
      "8/16/2016 9:55\n",
      "6\n",
      "11/22/2015 13:43\n",
      "29\n",
      "5/2/2016 10:14\n"
     ]
    }
   ],
   "source": [
    "result_list = []\n",
    "for post in ask_posts:\n",
    "    time_created = post[6]\n",
    "    n_comments = int(post[4])\n",
    "    result_list.append(time_created)\n",
    "    result_list.append(n_comments)\n",
    "    \n",
    "for row in result_list[:5]:\n",
    "    print(row)\n",
    "# counts_by_hour = {}\n",
    "# comments_by_hour = {}\n"
   ]
  },
  {
   "cell_type": "code",
   "execution_count": null,
   "metadata": {},
   "outputs": [],
   "source": []
  }
 ],
 "metadata": {
  "kernelspec": {
   "display_name": "Python 3",
   "language": "python",
   "name": "python3"
  },
  "language_info": {
   "codemirror_mode": {
    "name": "ipython",
    "version": 3
   },
   "file_extension": ".py",
   "mimetype": "text/x-python",
   "name": "python",
   "nbconvert_exporter": "python",
   "pygments_lexer": "ipython3",
   "version": "3.8.2"
  }
 },
 "nbformat": 4,
 "nbformat_minor": 2
}
